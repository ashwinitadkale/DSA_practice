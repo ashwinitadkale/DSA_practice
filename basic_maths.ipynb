{
 "cells": [
  {
   "cell_type": "markdown",
   "id": "31f2f6c9",
   "metadata": {},
   "source": [
    "COUNT\n",
    "O(log10N + 1)"
   ]
  },
  {
   "cell_type": "code",
   "execution_count": 1,
   "id": "7813e3ea",
   "metadata": {},
   "outputs": [
    {
     "name": "stdout",
     "output_type": "stream",
     "text": [
      "N: 329823\n",
      "Number of Digits in N: 6\n"
     ]
    }
   ],
   "source": [
    "def count_dig(n):\n",
    "    cnt=0\n",
    "    while n>0:\n",
    "        cnt=cnt+1\n",
    "        n=n//10\n",
    "    return cnt\n",
    "if __name__ == \"__main__\":\n",
    "    N = 329823\n",
    "    print(\"N:\", N)\n",
    "    digits = count_dig(N)\n",
    "    print(\"Number of Digits in N:\", digits)\n"
   ]
  },
  {
   "cell_type": "markdown",
   "id": "c4c69f39",
   "metadata": {},
   "source": [
    "Otimal Approch for Count \n",
    "Time complexity-O(1)"
   ]
  },
  {
   "cell_type": "code",
   "execution_count": 2,
   "id": "11c11f1b",
   "metadata": {},
   "outputs": [
    {
     "name": "stdout",
     "output_type": "stream",
     "text": [
      "N: 329823\n",
      "Number of Digits in N: 6\n"
     ]
    }
   ],
   "source": [
    "import math\n",
    "def count_dig(n):\n",
    "    cnt=0\n",
    "    cnt=int(math.log10(n)+1)\n",
    "    return cnt\n",
    "if __name__ == \"__main__\":\n",
    "    N = 329823\n",
    "    print(\"N:\", N)\n",
    "    digits = count_dig(N)\n",
    "    print(\"Number of Digits in N:\", digits)"
   ]
  },
  {
   "cell_type": "markdown",
   "id": "bf227907",
   "metadata": {},
   "source": [
    "Reverse Integer"
   ]
  },
  {
   "cell_type": "code",
   "execution_count": 4,
   "id": "cb20c742",
   "metadata": {},
   "outputs": [
    {
     "name": "stdout",
     "output_type": "stream",
     "text": [
      "x: 123456\n",
      "Reverse Integer is: 654321\n"
     ]
    }
   ],
   "source": [
    "class Solution:\n",
    "    def reverse(self, x: int) -> int:\n",
    "        sign=1 if x>0 else -1\n",
    "        x=abs(x)\n",
    "        rev=0\n",
    "        while x>0:\n",
    "            ld=x%10\n",
    "            rev=(rev*10)+ld\n",
    "            x=x//10\n",
    "        return rev*sign\n",
    "if __name__==\"__main__\":\n",
    "    x=123456\n",
    "    print(\"x:\",x)\n",
    "    obj=Solution()\n",
    "    res=obj.reverse(x)\n",
    "    print(\"Reverse Integer is:\",res)"
   ]
  },
  {
   "cell_type": "markdown",
   "id": "487100df",
   "metadata": {},
   "source": [
    "Palindrome"
   ]
  },
  {
   "cell_type": "code",
   "execution_count": null,
   "id": "87f811f9",
   "metadata": {},
   "outputs": [],
   "source": []
  },
  {
   "cell_type": "code",
   "execution_count": null,
   "id": "25a7f8d8",
   "metadata": {},
   "outputs": [],
   "source": [
    "class Solution:\n",
    "    def isPalindrome(self, x: int) -> bool:\n",
    "        # Negative numbers are never palindrome\n",
    "        if x < 0:\n",
    "            return False\n",
    "\n",
    "        original = x   # store original value\n",
    "        rev = 0\n",
    "\n",
    "        while x > 0:\n",
    "            rev = rev * 10 + (x % 10)\n",
    "            x //= 10\n",
    "\n",
    "        return rev == original\n"
   ]
  }
 ],
 "metadata": {
  "kernelspec": {
   "display_name": "myvenv (3.11.1)",
   "language": "python",
   "name": "python3"
  },
  "language_info": {
   "codemirror_mode": {
    "name": "ipython",
    "version": 3
   },
   "file_extension": ".py",
   "mimetype": "text/x-python",
   "name": "python",
   "nbconvert_exporter": "python",
   "pygments_lexer": "ipython3",
   "version": "3.11.1"
  }
 },
 "nbformat": 4,
 "nbformat_minor": 5
}
